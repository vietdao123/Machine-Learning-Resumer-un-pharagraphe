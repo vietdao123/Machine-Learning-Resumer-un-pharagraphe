{
 "cells": [
  {
   "cell_type": "code",
   "execution_count": 1,
   "metadata": {},
   "outputs": [],
   "source": [
    "#importer les framworks et bibliotheques\n",
    "import numpy as np\n",
    "from pyvi import ViTokenizer"
   ]
  },
  {
   "cell_type": "code",
   "execution_count": 2,
   "metadata": {},
   "outputs": [],
   "source": [
    "#Load files\n",
    "f = open(\"dao.txt\",'r',encoding = 'utf-8-sig')\n",
    "contents = f.read() #lire le document\n",
    "    "
   ]
  },
  {
   "cell_type": "code",
   "execution_count": 3,
   "metadata": {},
   "outputs": [],
   "source": [
    "#Pre-processing\n",
    "contents_parsed = contents.lower() #Tout convertir en minuscule\n",
    "contents_parsed = contents_parsed.replace('\\n', '. ') #Changer les caractères de la ligne en ponctuation\n",
    "contents_parsed = contents_parsed.strip() #Supprimer les espaces excédentaires"
   ]
  },
  {
   "cell_type": "code",
   "execution_count": 4,
   "metadata": {},
   "outputs": [
    {
     "name": "stdout",
     "output_type": "stream",
     "text": [
      "Trois penaltys concédés\n",
      "Neymar pensait avoir scellé l’affaire en ouvrant le score de la tête (63e). Mais comme à Liverpool, deux fois, et Naples dans des matches clés de Ligue des champions, le PSG a encore commis l’erreur dans sa surface de réparation… Et offert aux Guingampais, non pas un ni deux mais bien trois penaltys !\n",
      "\n",
      "Après le premier échec de Marcus Thuram (61e), Yeni Atito Ngbakoto (81e) et Thuram (90+3e) ont saisi leur chance, et sonné le Parc des princes pris de court par ce scénario glaçant. Et voilà le club francilien à terre pour la première fois de la saison sur ses terres, après vingt matches de rang sans perdre !\n",
      "\n",
      "« On devait tuer ce match »\n",
      "« On voulait aller en demi-finale mais on n’a pas réussi, c’était un match un peu bizarre. On aurait pu éviter ces trois penalties avec un peu plus de concentration et de réactivité. On devait tuer ce match, ne pas permettre à cette équipe de revenir », a estimé le milieu du PSG Marco Verratti au micro de Canal+ Sport à l’issue du match.\n",
      "\n",
      "Même son de cloche du côté, l’entraîneur francilien Thomas Tuchel : « Nous avons eu beaucoup d’occasions pour gagner, on aurait pu marquer trois buts, mais on ne l’a pas fait, honnêtement, on a joué avec trop de confiance. C’est très dur de perdre avec trois penaltys. »\n",
      "\n",
      "« Une bonne dynamique »\n",
      "« C’est difficilement explicable, il y a trois niveaux d’écart, de grands joueurs et un grand entraîneur, mais on est resté calme. Ça dépend d’eux, s’ils sont meilleurs ils sont meilleurs, mais on ne leur a pas laissé grand-chose », a reconnu l’entraîneur de Guingamp Jocelyn Gourvennec.\n",
      "\n",
      "« Ça nous laisse dans une bonne dynamique qu’on avait déjà avant Noël et c’est avec cet état d’esprit là qu’on va se maintenir. »\n",
      "\n",
      "Et Guingamp peut désormais rêver grand. Dans un dernier carré très ouvert, aux côtés de Strasbourg, Monaco et Bordeaux, l’En-avant peut parer d’or une saison jusque-là très difficile.\n"
     ]
    }
   ],
   "source": [
    "print(contents) #imprimer le document avant traitement"
   ]
  },
  {
   "cell_type": "code",
   "execution_count": 5,
   "metadata": {},
   "outputs": [
    {
     "name": "stdout",
     "output_type": "stream",
     "text": [
      "trois penaltys concédés. neymar pensait avoir scellé l’affaire en ouvrant le score de la tête (63e). mais comme à liverpool, deux fois, et naples dans des matches clés de ligue des champions, le psg a encore commis l’erreur dans sa surface de réparation… et offert aux guingampais, non pas un ni deux mais bien trois penaltys !. . après le premier échec de marcus thuram (61e), yeni atito ngbakoto (81e) et thuram (90+3e) ont saisi leur chance, et sonné le parc des princes pris de court par ce scénario glaçant. et voilà le club francilien à terre pour la première fois de la saison sur ses terres, après vingt matches de rang sans perdre !. . « on devait tuer ce match ». « on voulait aller en demi-finale mais on n’a pas réussi, c’était un match un peu bizarre. on aurait pu éviter ces trois penalties avec un peu plus de concentration et de réactivité. on devait tuer ce match, ne pas permettre à cette équipe de revenir », a estimé le milieu du psg marco verratti au micro de canal+ sport à l’issue du match.. . même son de cloche du côté, l’entraîneur francilien thomas tuchel : « nous avons eu beaucoup d’occasions pour gagner, on aurait pu marquer trois buts, mais on ne l’a pas fait, honnêtement, on a joué avec trop de confiance. c’est très dur de perdre avec trois penaltys. ». . « une bonne dynamique ». « c’est difficilement explicable, il y a trois niveaux d’écart, de grands joueurs et un grand entraîneur, mais on est resté calme. ça dépend d’eux, s’ils sont meilleurs ils sont meilleurs, mais on ne leur a pas laissé grand-chose », a reconnu l’entraîneur de guingamp jocelyn gourvennec.. . « ça nous laisse dans une bonne dynamique qu’on avait déjà avant noël et c’est avec cet état d’esprit là qu’on va se maintenir. ». . et guingamp peut désormais rêver grand. dans un dernier carré très ouvert, aux côtés de strasbourg, monaco et bordeaux, l’en-avant peut parer d’or une saison jusque-là très difficile.\n"
     ]
    }
   ],
   "source": [
    "print(contents_parsed) #imprimer document apres pre-traitement"
   ]
  },
  {
   "cell_type": "code",
   "execution_count": 6,
   "metadata": {},
   "outputs": [],
   "source": [
    "#Utilisez la bibliothèque nltk pour séparer les phrases dans le texte\n",
    "import nltk "
   ]
  },
  {
   "cell_type": "code",
   "execution_count": 7,
   "metadata": {},
   "outputs": [],
   "source": [
    "sentences = nltk.sent_tokenize(contents_parsed) #séparer les phrases dans le texte"
   ]
  },
  {
   "cell_type": "code",
   "execution_count": 8,
   "metadata": {},
   "outputs": [
    {
     "name": "stdout",
     "output_type": "stream",
     "text": [
      "['trois penaltys concédés.', 'neymar pensait avoir scellé l’affaire en ouvrant le score de la tête (63e).', 'mais comme à liverpool, deux fois, et naples dans des matches clés de ligue des champions, le psg a encore commis l’erreur dans sa surface de réparation… et offert aux guingampais, non pas un ni deux mais bien trois penaltys !.', '.', 'après le premier échec de marcus thuram (61e), yeni atito ngbakoto (81e) et thuram (90+3e) ont saisi leur chance, et sonné le parc des princes pris de court par ce scénario glaçant.', 'et voilà le club francilien à terre pour la première fois de la saison sur ses terres, après vingt matches de rang sans perdre !.', '.', '« on devait tuer ce match ».', '« on voulait aller en demi-finale mais on n’a pas réussi, c’était un match un peu bizarre.', 'on aurait pu éviter ces trois penalties avec un peu plus de concentration et de réactivité.', 'on devait tuer ce match, ne pas permettre à cette équipe de revenir », a estimé le milieu du psg marco verratti au micro de canal+ sport à l’issue du match.. .', 'même son de cloche du côté, l’entraîneur francilien thomas tuchel : « nous avons eu beaucoup d’occasions pour gagner, on aurait pu marquer trois buts, mais on ne l’a pas fait, honnêtement, on a joué avec trop de confiance.', 'c’est très dur de perdre avec trois penaltys.', '».', '.', '« une bonne dynamique ».', '« c’est difficilement explicable, il y a trois niveaux d’écart, de grands joueurs et un grand entraîneur, mais on est resté calme.', 'ça dépend d’eux, s’ils sont meilleurs ils sont meilleurs, mais on ne leur a pas laissé grand-chose », a reconnu l’entraîneur de guingamp jocelyn gourvennec.. .', '« ça nous laisse dans une bonne dynamique qu’on avait déjà avant noël et c’est avec cet état d’esprit là qu’on va se maintenir.', '».', '.', 'et guingamp peut désormais rêver grand.', 'dans un dernier carré très ouvert, aux côtés de strasbourg, monaco et bordeaux, l’en-avant peut parer d’or une saison jusque-là très difficile.']\n"
     ]
    }
   ],
   "source": [
    "print(sentences) #imprimer les phrases"
   ]
  },
  {
   "cell_type": "code",
   "execution_count": 9,
   "metadata": {},
   "outputs": [
    {
     "name": "stderr",
     "output_type": "stream",
     "text": [
      "C:\\ProgramData\\Anaconda3\\lib\\site-packages\\gensim\\utils.py:1212: UserWarning: detected Windows; aliasing chunkize to chunkize_serial\n",
      "  warnings.warn(\"detected Windows; aliasing chunkize to chunkize_serial\")\n"
     ]
    }
   ],
   "source": [
    "#transférer le mot au vecteur\n",
    "from gensim.models import KeyedVectors \n",
    "\n",
    "w2v = KeyedVectors.load_word2vec_format(\"fr.vec\")"
   ]
  },
  {
   "cell_type": "code",
   "execution_count": 10,
   "metadata": {},
   "outputs": [
    {
     "name": "stderr",
     "output_type": "stream",
     "text": [
      "C:\\ProgramData\\Anaconda3\\lib\\site-packages\\ipykernel_launcher.py:1: DeprecationWarning: Call to deprecated `wv` (Attribute will be removed in 4.0.0, use self instead).\n",
      "  \"\"\"Entry point for launching an IPython kernel.\n"
     ]
    }
   ],
   "source": [
    "vocab = w2v.wv.vocab"
   ]
  },
  {
   "cell_type": "code",
   "execution_count": 11,
   "metadata": {},
   "outputs": [
    {
     "name": "stderr",
     "output_type": "stream",
     "text": [
      "C:\\ProgramData\\Anaconda3\\lib\\site-packages\\ipykernel_launcher.py:9: DeprecationWarning: Call to deprecated `wv` (Attribute will be removed in 4.0.0, use self instead).\n",
      "  if __name__ == '__main__':\n"
     ]
    }
   ],
   "source": [
    "\n",
    "X = []\n",
    "for sentence in sentences:\n",
    "    sentence_tokenized = ViTokenizer.tokenize(sentence)\n",
    "    words = sentence_tokenized.split(\" \")\n",
    "    sentence_vec = np.zeros((300))\n",
    "    for word in words:\n",
    "        if word in vocab:\n",
    "            sentence_vec+=w2v.wv[word]\n",
    "    X.append(sentence_vec)"
   ]
  },
  {
   "cell_type": "code",
   "execution_count": 15,
   "metadata": {},
   "outputs": [],
   "source": [
    "#Regroupement Kmeans clustering\n",
    "from sklearn.cluster import KMeans\n",
    "\n",
    "n_clusters = 5\n",
    "kmeans = KMeans(n_clusters=n_clusters)\n",
    "kmeans = kmeans.fit(X)"
   ]
  },
  {
   "cell_type": "code",
   "execution_count": 16,
   "metadata": {},
   "outputs": [],
   "source": [
    "\n",
    "from sklearn.metrics import pairwise_distances_argmin_min\n",
    "\n",
    "avg = []\n",
    "for j in range(n_clusters):\n",
    "    idx = np.where(kmeans.labels_ == j)[0]\n",
    "    avg.append(np.mean(idx))\n",
    "closest, _ = pairwise_distances_argmin_min(kmeans.cluster_centers_, X)\n",
    "ordering = sorted(range(n_clusters), key=lambda k: avg[k])\n",
    "summary = ' '.join([sentences[closest[idx]] for idx in ordering])"
   ]
  },
  {
   "cell_type": "code",
   "execution_count": 17,
   "metadata": {},
   "outputs": [
    {
     "data": {
      "text/plain": [
       "'on devait tuer ce match, ne pas permettre à cette équipe de revenir », a estimé le milieu du psg marco verratti au micro de canal+ sport à l’issue du match.. . neymar pensait avoir scellé l’affaire en ouvrant le score de la tête (63e). . « c’est difficilement explicable, il y a trois niveaux d’écart, de grands joueurs et un grand entraîneur, mais on est resté calme. même son de cloche du côté, l’entraîneur francilien thomas tuchel : « nous avons eu beaucoup d’occasions pour gagner, on aurait pu marquer trois buts, mais on ne l’a pas fait, honnêtement, on a joué avec trop de confiance.'"
      ]
     },
     "execution_count": 17,
     "metadata": {},
     "output_type": "execute_result"
    }
   ],
   "source": [
    "summary"
   ]
  },
  {
   "cell_type": "code",
   "execution_count": null,
   "metadata": {},
   "outputs": [],
   "source": []
  }
 ],
 "metadata": {
  "kernelspec": {
   "display_name": "Python 3",
   "language": "python",
   "name": "python3"
  },
  "language_info": {
   "codemirror_mode": {
    "name": "ipython",
    "version": 3
   },
   "file_extension": ".py",
   "mimetype": "text/x-python",
   "name": "python",
   "nbconvert_exporter": "python",
   "pygments_lexer": "ipython3",
   "version": "3.7.0"
  }
 },
 "nbformat": 4,
 "nbformat_minor": 2
}
